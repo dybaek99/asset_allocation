{
 "cells": [
  {
   "cell_type": "code",
   "execution_count": 1,
   "id": "c200f02a-17e2-49f2-954b-92a0ede3a939",
   "metadata": {},
   "outputs": [
    {
     "name": "stdout",
     "output_type": "stream",
     "text": [
      "Requirement already satisfied: fredapi in c:\\users\\dybae\\anaconda3\\lib\\site-packages (0.5.2)\n",
      "Requirement already satisfied: pandas in c:\\users\\dybae\\anaconda3\\lib\\site-packages (from fredapi) (2.2.2)\n",
      "Requirement already satisfied: numpy>=1.23.2 in c:\\users\\dybae\\anaconda3\\lib\\site-packages (from pandas->fredapi) (1.26.4)\n",
      "Requirement already satisfied: python-dateutil>=2.8.2 in c:\\users\\dybae\\anaconda3\\lib\\site-packages (from pandas->fredapi) (2.8.2)\n",
      "Requirement already satisfied: pytz>=2020.1 in c:\\users\\dybae\\anaconda3\\lib\\site-packages (from pandas->fredapi) (2023.3.post1)\n",
      "Requirement already satisfied: tzdata>=2022.7 in c:\\users\\dybae\\anaconda3\\lib\\site-packages (from pandas->fredapi) (2023.3)\n",
      "Requirement already satisfied: six>=1.5 in c:\\users\\dybae\\anaconda3\\lib\\site-packages (from python-dateutil>=2.8.2->pandas->fredapi) (1.16.0)\n",
      "Note: you may need to restart the kernel to use updated packages.\n"
     ]
    }
   ],
   "source": [
    "pip install fredapi"
   ]
  },
  {
   "cell_type": "code",
   "execution_count": 2,
   "id": "154f7eba-b910-4836-8548-b94a6c734a9c",
   "metadata": {},
   "outputs": [
    {
     "name": "stdout",
     "output_type": "stream",
     "text": [
      "Requirement already satisfied: fredapi in c:\\users\\dybae\\anaconda3\\lib\\site-packages (0.5.2)\n",
      "Requirement already satisfied: pandas in c:\\users\\dybae\\anaconda3\\lib\\site-packages (from fredapi) (2.2.2)\n",
      "Requirement already satisfied: numpy>=1.23.2 in c:\\users\\dybae\\anaconda3\\lib\\site-packages (from pandas->fredapi) (1.26.4)\n",
      "Requirement already satisfied: python-dateutil>=2.8.2 in c:\\users\\dybae\\anaconda3\\lib\\site-packages (from pandas->fredapi) (2.8.2)\n",
      "Requirement already satisfied: pytz>=2020.1 in c:\\users\\dybae\\anaconda3\\lib\\site-packages (from pandas->fredapi) (2023.3.post1)\n",
      "Requirement already satisfied: tzdata>=2022.7 in c:\\users\\dybae\\anaconda3\\lib\\site-packages (from pandas->fredapi) (2023.3)\n",
      "Requirement already satisfied: six>=1.5 in c:\\users\\dybae\\anaconda3\\lib\\site-packages (from python-dateutil>=2.8.2->pandas->fredapi) (1.16.0)\n",
      "Note: you may need to restart the kernel to use updated packages.\n"
     ]
    }
   ],
   "source": [
    "pip install --upgrade fredapi"
   ]
  },
  {
   "cell_type": "code",
   "execution_count": 7,
   "id": "1d52511f-03e4-4e48-8cc6-8852af145bd8",
   "metadata": {},
   "outputs": [
    {
     "name": "stdout",
     "output_type": "stream",
     "text": [
      "              PCE    CPI  Nonfarm Payrolls  Unemployment Rate      GDP\n",
      "1959-01-01  306.1  29.01           52478.0                6.0  510.330\n",
      "1959-02-01  309.6  29.00           52688.0                5.9      NaN\n",
      "1959-03-01  312.7  28.97           53014.0                5.6      NaN\n",
      "1959-04-01  312.2  28.98           53321.0                5.2  522.653\n",
      "1959-05-01  316.1  29.04           53550.0                5.1      NaN\n",
      "데이터 저장 완료!\n"
     ]
    }
   ],
   "source": [
    "import requests\n",
    "import pandas as pd\n",
    "\n",
    "# FRED API 키\n",
    "api_key = '6335ad7aa6cb1d411471f87af4cf88a6'\n",
    "\n",
    "# 주요 경제 지표의 FRED 시리즈 ID\n",
    "series_ids = {\n",
    "    'PCE': 'PCE',                  # PCE (개인소비지출)\n",
    "    'CPI': 'CPIAUCSL',             # CPI (소비자물가지수)\n",
    "    'Nonfarm Payrolls': 'PAYEMS',  # 비농업 고용보고서\n",
    "    'Unemployment Rate': 'UNRATE', # 실업률\n",
    "    'GDP': 'GDP'                   # GDP\n",
    "}\n",
    "\n",
    "# 데이터를 저장할 딕셔너리\n",
    "data = {}\n",
    "\n",
    "# 데이터 가져오기\n",
    "for name, series_id in series_ids.items():\n",
    "    url = f'https://api.stlouisfed.org/fred/series/observations'\n",
    "    params = {\n",
    "        'series_id': series_id,\n",
    "        'api_key': api_key,\n",
    "        'file_type': 'json'\n",
    "    }\n",
    "    response = requests.get(url, params=params)\n",
    "    if response.status_code == 200:\n",
    "        json_data = response.json()\n",
    "        observations = json_data.get('observations', [])\n",
    "        data[name] = {obs['date']: float(obs['value']) for obs in observations if obs['value'] != '.'}\n",
    "    else:\n",
    "        print(f\"Failed to fetch data for {name}. Status code: {response.status_code}\")\n",
    "\n",
    "# 데이터프레임으로 변환\n",
    "df = pd.DataFrame(data)\n",
    "\n",
    "# 결과 확인\n",
    "print(df.head())\n",
    "\n",
    "# 데이터 저장 (선택 사항)\n",
    "df.to_csv('economic_indicators_direct.csv', index=True)\n",
    "print(\"데이터 저장 완료!\")"
   ]
  },
  {
   "cell_type": "code",
   "execution_count": 12,
   "id": "2c877d7c-d7ec-4653-8bfd-0d451eed32cf",
   "metadata": {},
   "outputs": [
    {
     "name": "stdout",
     "output_type": "stream",
     "text": [
      "          Date  PCE  CPI  Nonfarm Payrolls  Unemployment Rate  GDP  \\\n",
      "935 1939-01-01  NaN  NaN           29923.0                NaN  NaN   \n",
      "936 1939-02-01  NaN  NaN           30100.0                NaN  NaN   \n",
      "937 1939-03-01  NaN  NaN           30280.0                NaN  NaN   \n",
      "938 1939-04-01  NaN  NaN           30094.0                NaN  NaN   \n",
      "939 1939-05-01  NaN  NaN           30299.0                NaN  NaN   \n",
      "\n",
      "     Federal Debt (Total)  Federal Debt as % of GDP  Total Consumer Loans  \\\n",
      "935                   NaN                       NaN                   NaN   \n",
      "936                   NaN                       NaN                   NaN   \n",
      "937                   NaN                       NaN                   NaN   \n",
      "938                   NaN                       NaN                   NaN   \n",
      "939                   NaN                       NaN                   NaN   \n",
      "\n",
      "     Consumer Loans as % of GDP  \n",
      "935                         NaN  \n",
      "936                         NaN  \n",
      "937                         NaN  \n",
      "938                         NaN  \n",
      "939                         NaN  \n",
      "데이터 저장 완료!\n"
     ]
    }
   ],
   "source": [
    "import requests\n",
    "import pandas as pd\n",
    "\n",
    "# FRED API 키\n",
    "api_key = '6335ad7aa6cb1d411471f87af4cf88a6'\n",
    "\n",
    "# 주요 경제 지표의 FRED 시리즈 ID\n",
    "series_ids = {\n",
    "    'PCE': 'PCE',                                # PCE (개인소비지출)\n",
    "    'CPI': 'CPIAUCSL',                           # CPI (소비자물가지수)\n",
    "    'Nonfarm Payrolls': 'PAYEMS',                # 비농업 고용보고서(천 명)\n",
    "    'Unemployment Rate': 'UNRATE',               # 실업률\n",
    "    'GDP': 'GDP',                                # GDP(Billions of Dollars)\n",
    "    'Federal Debt (Total)': 'GFDEBTN',           # 미국 연방 정부의 총 공공 부채(Billions of Dollars)\n",
    "    'Federal Debt as % of GDP': 'GFDEGDQ188S',   # 미국 연방 부채를 GDP 대비 비율\n",
    "    'Total Consumer Loans': 'TOTALSL'            # 연방 준비 은행이 보유한 총 소비자 대출(Millions of Dollars)\n",
    "}\n",
    "\n",
    "# 데이터를 저장할 딕셔너리\n",
    "data = {}\n",
    "\n",
    "# 데이터 가져오기\n",
    "for name, series_id in series_ids.items():\n",
    "    url = f'https://api.stlouisfed.org/fred/series/observations'\n",
    "    params = {\n",
    "        'series_id': series_id,\n",
    "        'api_key': api_key,\n",
    "        'file_type': 'json'\n",
    "    }\n",
    "    response = requests.get(url, params=params)\n",
    "    if response.status_code == 200:\n",
    "        json_data = response.json()\n",
    "        observations = json_data.get('observations', [])\n",
    "        data[name] = {obs['date']: float(obs['value']) for obs in observations if obs['value'] != '.'}\n",
    "    else:\n",
    "        print(f\"Failed to fetch data for {name}. Status code: {response.status_code}\") # 총 소비자 대출의 GDP 대비 비율\n",
    "\n",
    "# 데이터프레임으로 변환\n",
    "df = pd.DataFrame(data)\n",
    "\n",
    "df['Consumer Loans as % of GDP'] = ((df['Total Consumer Loans']/1000) / df['GDP']) * 100\n",
    "\n",
    "# 인덱스를 컬럼으로 변환 (Date 추가)\n",
    "df.reset_index(inplace=True)\n",
    "df.rename(columns={'index': 'Date'}, inplace=True)\n",
    "\n",
    "# Date 컬럼을 datetime 형식으로 변환\n",
    "df['Date'] = pd.to_datetime(df['Date'])\n",
    "\n",
    "# Date 기준으로 정렬\n",
    "df.sort_values(by='Date', inplace=True)\n",
    "\n",
    "# 결과 확인\n",
    "print(df.head())\n",
    "\n",
    "# 데이터 저장\n",
    "df.to_csv('economic_indicators_direct_sorted.csv', index=False)\n",
    "print(\"데이터 저장 완료!\")"
   ]
  },
  {
   "cell_type": "code",
   "execution_count": 9,
   "id": "e533be3e-0a6f-49d7-a174-00083e91eddb",
   "metadata": {},
   "outputs": [
    {
     "name": "stdout",
     "output_type": "stream",
     "text": [
      "        Date  Dollar Index\n",
      "0 2006-01-02      101.4155\n",
      "1 2006-01-03      100.7558\n",
      "2 2006-01-04      100.2288\n",
      "3 2006-01-05      100.2992\n",
      "4 2006-01-06      100.0241\n",
      "데이터 저장 완료!\n"
     ]
    }
   ],
   "source": [
    "import requests\n",
    "import pandas as pd\n",
    "\n",
    "# FRED API 키\n",
    "api_key = '6335ad7aa6cb1d411471f87af4cf88a6'\n",
    "\n",
    "# 주요 경제 지표의 FRED 시리즈 ID\n",
    "series_ids = {\n",
    "    'Dollar Index': 'DTWEXBGS',                                # dollor index\n",
    "}\n",
    "\n",
    "# 데이터를 저장할 딕셔너리\n",
    "data = {}\n",
    "\n",
    "# 데이터 가져오기\n",
    "for name, series_id in series_ids.items():\n",
    "    url = f'https://api.stlouisfed.org/fred/series/observations'\n",
    "    params = {\n",
    "        'series_id': series_id,\n",
    "        'api_key': api_key,\n",
    "        'file_type': 'json'\n",
    "    }\n",
    "    response = requests.get(url, params=params)\n",
    "    if response.status_code == 200:\n",
    "        json_data = response.json()\n",
    "        observations = json_data.get('observations', [])\n",
    "        data[name] = {obs['date']: float(obs['value']) for obs in observations if obs['value'] != '.'}\n",
    "    else:\n",
    "        print(f\"Failed to fetch data for {name}. Status code: {response.status_code}\") # 총 소비자 대출의 GDP 대비 비율\n",
    "\n",
    "# 데이터프레임으로 변환\n",
    "df = pd.DataFrame(data)\n",
    "\n",
    "# 인덱스를 컬럼으로 변환 (Date 추가)\n",
    "df.reset_index(inplace=True)\n",
    "df.rename(columns={'index': 'Date'}, inplace=True)\n",
    "\n",
    "# Date 컬럼을 datetime 형식으로 변환\n",
    "df['Date'] = pd.to_datetime(df['Date'])\n",
    "\n",
    "# Date 기준으로 정렬\n",
    "df.sort_values(by='Date', inplace=True)\n",
    "\n",
    "# 결과 확인\n",
    "print(df.head())\n",
    "\n",
    "# 데이터 저장\n",
    "df.to_csv('dollor_index.csv', index=False)\n",
    "print(\"데이터 저장 완료!\")"
   ]
  },
  {
   "cell_type": "code",
   "execution_count": null,
   "id": "a398e59a-9198-4b38-8d13-a82e2905aa92",
   "metadata": {},
   "outputs": [],
   "source": []
  }
 ],
 "metadata": {
  "kernelspec": {
   "display_name": "Python 3 (ipykernel)",
   "language": "python",
   "name": "python3"
  },
  "language_info": {
   "codemirror_mode": {
    "name": "ipython",
    "version": 3
   },
   "file_extension": ".py",
   "mimetype": "text/x-python",
   "name": "python",
   "nbconvert_exporter": "python",
   "pygments_lexer": "ipython3",
   "version": "3.11.7"
  }
 },
 "nbformat": 4,
 "nbformat_minor": 5
}
